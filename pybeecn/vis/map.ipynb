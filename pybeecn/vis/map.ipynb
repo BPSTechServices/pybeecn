{
 "cells": [
  {
   "cell_type": "code",
   "execution_count": null,
   "metadata": {
    "collapsed": true
   },
   "outputs": [],
   "source": [
    "import folium\n",
    "\n",
    "m = folium.Map(location=[45.5236, -122.6750])"
   ]
  },
  {
   "cell_type": "code",
   "execution_count": null,
   "metadata": {},
   "outputs": [],
   "source": [
    "import geopandas as gpd\n",
    "url_neighborhoods = 'https://opendata.arcgis.com/datasets/9f50a605cf4945259b983fa35c993fe9_125.geojson'\n",
    "url_beecns = 'https://opendata.arcgis.com/datasets/6e6185533d5447deb8b7204c27e1858e_92.geojson'\n",
    "neighborhood_geo = gpd.read_file(url_neighborhoods)\n",
    "beecn_geo = gpd.read_file(url_beecns)\n",
    "\n",
    "folium.Choropleth(\n",
    "    geo_data=neighborhood_geo,\n",
    "    fill_color='YlGn',\n",
    "    fill_opacity=0.1\n",
    ").add_to(m)\n",
    "\n",
    "gjson = beecn_geo.to_crs(epsg='4326').to_json()\n",
    "print(beecn_geo['SITE_NAME'])\n",
    "points = folium.features.GeoJson(gjson)\n",
    "m.add_child(points)\n",
    "m"
   ]
  }
 ],
 "metadata": {
  "kernelspec": {
   "display_name": "Python 2",
   "language": "python",
   "name": "python2"
  },
  "language_info": {
   "codemirror_mode": {
    "name": "ipython",
    "version": 2
   },
   "file_extension": ".py",
   "mimetype": "text/x-python",
   "name": "python",
   "nbconvert_exporter": "python",
   "pygments_lexer": "ipython2",
   "version": "2.7.6"
  }
 },
 "nbformat": 4,
 "nbformat_minor": 0
}
