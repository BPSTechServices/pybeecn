{
 "cells": [
  {
   "cell_type": "markdown",
   "metadata": {},
   "source": [
    "# BEECN Location Visualization"
   ]
  },
  {
   "cell_type": "code",
   "execution_count": 25,
   "metadata": {},
   "outputs": [],
   "source": [
    "\n",
    "import os\n",
    "import pandas as pd\n",
    "import folium\n",
    "\n",
    "neigh_geo = 'https://opendata.arcgis.com/datasets/9f50a605cf4945259b983fa35c993fe9_125.geojson'\n",
    "data_dir = os.path.join(os.path.dirname(os.getcwd()), 'data')\n",
    "\n",
    "# neighbor_file = os.path.join(data_dir, 'neighborhood_population.csv')\n",
    "neighbor_file = os.path.join(data_dir, 'Census_2010_Data_Cleanedup_Neighborhoods2.csv')\n",
    "\n",
    "# Way Jupyter Notebook and local machine read in files is different. Use this \n",
    "if os.path.exists(neighbor_file):\n",
    "    neighbor_df = pd.read_csv(neighbor_file)\n",
    "else:\n",
    "    data_dir = os.path.join(os.getcwd(), 'pybeecn/data')\n",
    "    neighbor_file = os.path.join(data_dir, 'Census_2010_Data_Cleanedup_Neighborhoods2.csv')\n",
    "    neighbor_df = pd.read_csv(neighbor_file)\n",
    "\n",
    "# for i in range(len(neighbor_df.columns)):\n",
    "#     # print(i)\n",
    "#     print(neighbor_df.columns[i])\n",
    "    \n",
    "m = folium.Map(location=[45.5236, -122.6750])\n",
    "\n",
    "# population = folium.Choropleth(\n",
    "#                                geo_data=neigh_geo,\n",
    "#                                data=neighbor_df,\n",
    "#                                columns=['OBJECTID', 'Total'],\n",
    "#                                key_on='feature.properties.OBJECTID',\n",
    "#                                fill_color='YlGn',\n",
    "#                                fill_opacity=0.9,\n",
    "#                                line_opacity=0.2,\n",
    "#                                legend_name='Neighborhood Population Size',\n",
    "#                                highlight=True,\n",
    "#                                name='2010 Population',\n",
    "#                                show=True\n",
    "# ).add_to(m)\n",
    "\n",
    "# folium.GeoJson(\n",
    "#     neigh_geo,\n",
    "#     tooltip=folium.features.GeoJsonTooltip(fields=['NAME'],\n",
    "#                                            localize=True)\n",
    "# ).add_to(population.geojson)\n",
    "\n",
    "\n",
    "# m.save('population.html')\n",
    "\n",
    "# plots_dir = os.path.join(os.path.dirname(os.getcwd()), 'plots')\n",
    "# if os.path.exists(plots_dir):\n",
    "#     m.save(os.path.join(plots_dir), 'map.html')\n",
    "# else:\n",
    "#     plots_dir = os.path.join(os.getcwd(), 'pybeecn/plots')\n",
    "#     m.save(os.path.join(plots_dir), 'map.html')\n",
    "# print(plots_dir)\n",
    "white = folium.Choropleth(\n",
    "                          geo_data=neigh_geo,\n",
    "                          data=neighbor_df,\n",
    "                          columns=['OBJECTID', 'White alone (NHoL)'],\n",
    "                          key_on='feature.properties.OBJECTID',\n",
    "                          fill_color='GnBu',\n",
    "                          fill_opacity=1,\n",
    "                          line_opacity=0.2,\n",
    "                          legend_name='Neighborhood Population Size',\n",
    "                          highlight=True,\n",
    "                          name='2010 White Population',\n",
    "                          show=False\n",
    ").add_to(m)\n",
    "\n",
    "# folium.GeoJson(\n",
    "#     neigh_geo,\n",
    "#     tooltip=folium.features.GeoJsonTooltip(fields=['NAME'],\n",
    "#                                            localize=True)\n",
    "# ).add_to(white.geojson)\n",
    "\n",
    "black = folium.Choropleth(\n",
    "                          geo_data=neigh_geo,\n",
    "                          data=neighbor_df,\n",
    "                          columns=['OBJECTID', 'Black or African American alone (NH0L)'],\n",
    "                          key_on='feature.properties.OBJECTID',\n",
    "                          fill_color='OrRd',\n",
    "                          fill_opacity=1,\n",
    "                          line_opacity=0.2,\n",
    "                          legend_name='Neighborhood Population Size',\n",
    "                          highlight=True,\n",
    "                          name='2010 Black Population',\n",
    "                          show=False\n",
    ").add_to(m)\n",
    "\n",
    "# todo: Having a problem loading more than two layers into Choropleth. \n",
    "\n",
    "# indian = folium.Choropleth(\n",
    "#                           geo_data=neigh_geo,\n",
    "#                           data=neighbor_df,\n",
    "#                           columns=['OBJECTID', 'American Indian and Alaska Native alone (NH0L)'],\n",
    "#                           key_on='feature.properties.OBJECTID',\n",
    "#                           fill_color='OrRd',\n",
    "#                           fill_opacity=1,\n",
    "#                           line_opacity=0.2,\n",
    "#                           legend_name='Neighborhood Population Size',\n",
    "#                           highlight=True,\n",
    "#                           name='2010 NA/Alaskan Population',\n",
    "#                           show=False\n",
    "# ).add_to(m)\n",
    "folium.LayerControl().add_to(m)\n",
    "m\n"
   ]
  },
  {
   "cell_type": "code",
   "execution_count": 6,
   "metadata": {},
   "outputs": [
    {
     "name": "stdout",
     "output_type": "stream",
     "text": [
      "   OBJECTID                          SITE_NAME  \\\n0         1         Parkrose High School Field   \n1         2  Ainsworth Elementary School Field   \n2         3    Chapman Elementary School Field   \n3         4   Sunstone Montessori School Field   \n4         5                     Lair Hill Park   \n\n                              LOCATION SITE_OWNER    X_COORD   Y_COORD MAP_ID  \\\n0               12003 NE Shaver Street        PPS  7678990.0  694114.0  NE-19   \n1     SW Elm Street and SW 21st Avenue        PPS  7638110.0  679716.0  SW-24   \n2  NW Quimby Street and NW 27th Avenue        PPS  7636770.0  688215.0   NW-3   \n3               6318 SW Corbett Street        PPS  7643970.0  667980.0  SW-29   \n4    SW 2nd Aveue and SW Porter Street       PP&R  7643160.0  676494.0  SW-25   \n\n  BARRIER_ID                              geometry           latitude  \\\n0          L  -122.5422587229825 45.55243515646136  45.55243515646136   \n1          F  -122.7002495885055 45.51001783951922  45.51001783951922   \n2          E  -122.7063696524326 45.53321840593239  45.53321840593239   \n3          G  -122.6761713953615 45.47827510394902  45.47827510394902   \n4          F  -122.6802225170186 45.50155787224017  45.50155787224017   \n\n            longitude  \n0  -122.5422587229825  \n1  -122.7002495885055  \n2  -122.7063696524326  \n3  -122.6761713953615  \n4  -122.6802225170186  \n"
     ]
    }
   ],
   "source": [
    "import pandas as pd\n",
    "import numpy as np\n",
    "import geopandas as gpd\n",
    "url_beecns = 'https://opendata.arcgis.com/datasets/6e6185533d5447deb8b7204c27e1858e_92.geojson'\n",
    "beecn_geo = gpd.read_file(url_beecns)\n",
    "beecn_geo = pd.DataFrame(beecn_geo)\n",
    "\n",
    "beecn_geo['geometry'] = beecn_geo['geometry'].map(lambda x: str(x).lstrip('POINT (').rstrip(')'))\n",
    "lat = []\n",
    "lon = []\n",
    "\n",
    "for row in beecn_geo['geometry']:\n",
    "    try:\n",
    "        lon.append(row.split(' ')[0])\n",
    "        lat.append(row.split(' ')[1])\n",
    "    except:\n",
    "        lon.append(np.NaN)\n",
    "        lat.append(np.NaN)\n",
    "\n",
    "beecn_geo['latitude'] = lat\n",
    "beecn_geo['longitude'] = lon\n",
    "print(beecn_geo.head())"
   ]
  },
  {
   "cell_type": "markdown",
   "metadata": {},
   "source": [
    "## Generate a Map\n",
    "\n",
    "Generate a map of the BEECN Locations with a 1600 meter radius around each site. The map also shows the boundaries of each Portland Neighborhood. "
   ]
  },
  {
   "cell_type": "code",
   "execution_count": null,
   "metadata": {},
   "outputs": [
    {
     "ename": "NameError",
     "evalue": "name 'beecn_geo' is not defined",
     "traceback": [
      "\u001b[0;31m---------------------------------------------------------------------------\u001b[0m",
      "\u001b[0;31mNameError\u001b[0m                                 Traceback (most recent call last)",
      "\u001b[0;32m<ipython-input-26-ab5a5501ebac>\u001b[0m in \u001b[0;36m<module>\u001b[0;34m\u001b[0m\n\u001b[0;32m----> 1\u001b[0;31m \u001b[0mlatitude\u001b[0m \u001b[0;34m=\u001b[0m \u001b[0mnp\u001b[0m\u001b[0;34m.\u001b[0m\u001b[0marray\u001b[0m\u001b[0;34m(\u001b[0m\u001b[0mbeecn_geo\u001b[0m\u001b[0;34m[\u001b[0m\u001b[0;34m'latitude'\u001b[0m\u001b[0;34m]\u001b[0m\u001b[0;34m)\u001b[0m\u001b[0;34m\u001b[0m\u001b[0;34m\u001b[0m\u001b[0m\n\u001b[0m\u001b[1;32m      2\u001b[0m \u001b[0mlatitude\u001b[0m \u001b[0;34m=\u001b[0m \u001b[0mlatitude\u001b[0m\u001b[0;34m.\u001b[0m\u001b[0mastype\u001b[0m\u001b[0;34m(\u001b[0m\u001b[0mfloat\u001b[0m\u001b[0;34m)\u001b[0m\u001b[0;34m\u001b[0m\u001b[0;34m\u001b[0m\u001b[0m\n\u001b[1;32m      3\u001b[0m \u001b[0mlongitude\u001b[0m \u001b[0;34m=\u001b[0m \u001b[0mnp\u001b[0m\u001b[0;34m.\u001b[0m\u001b[0marray\u001b[0m\u001b[0;34m(\u001b[0m\u001b[0mbeecn_geo\u001b[0m\u001b[0;34m[\u001b[0m\u001b[0;34m'longitude'\u001b[0m\u001b[0;34m]\u001b[0m\u001b[0;34m)\u001b[0m\u001b[0;34m\u001b[0m\u001b[0;34m\u001b[0m\u001b[0m\n\u001b[1;32m      4\u001b[0m \u001b[0mlongitude\u001b[0m \u001b[0;34m=\u001b[0m \u001b[0mlongitude\u001b[0m\u001b[0;34m.\u001b[0m\u001b[0mastype\u001b[0m\u001b[0;34m(\u001b[0m\u001b[0mfloat\u001b[0m\u001b[0;34m)\u001b[0m\u001b[0;34m\u001b[0m\u001b[0;34m\u001b[0m\u001b[0m\n\u001b[1;32m      5\u001b[0m \u001b[0mm\u001b[0m \u001b[0;34m=\u001b[0m \u001b[0mfolium\u001b[0m\u001b[0;34m.\u001b[0m\u001b[0mMap\u001b[0m\u001b[0;34m(\u001b[0m\u001b[0mlocation\u001b[0m\u001b[0;34m=\u001b[0m\u001b[0;34m[\u001b[0m\u001b[0;36m45.5236\u001b[0m\u001b[0;34m,\u001b[0m \u001b[0;34m-\u001b[0m\u001b[0;36m122.6750\u001b[0m\u001b[0;34m]\u001b[0m\u001b[0;34m)\u001b[0m\u001b[0;34m\u001b[0m\u001b[0;34m\u001b[0m\u001b[0m\n",
      "\u001b[0;31mNameError\u001b[0m: name 'beecn_geo' is not defined"
     ],
     "output_type": "error"
    }
   ],
   "source": [
    "latitude = np.array(beecn_geo['latitude'])\n",
    "latitude = latitude.astype(float)\n",
    "longitude = np.array(beecn_geo['longitude'])\n",
    "longitude = longitude.astype(float)\n",
    "m = folium.Map(location=[45.5236, -122.6750])\n",
    "beecn_site = beecn_geo['SITE_NAME']\n",
    "address = beecn_geo['LOCATION']\n",
    "\n",
    "location = zip(latitude, longitude)\n",
    "\n",
    "count = 0\n",
    "for i in location:\n",
    "    folium.Marker(i, popup=address[count], icon= folium.Icon(icon='medkit', prefix='fa'), tooltip=beecn_site[count]).add_to(m)\n",
    "    folium.Circle(i, radius=1600).add_to(m)\n",
    "    count += 1\n",
    "m"
   ]
  },
  {
   "cell_type": "code",
   "execution_count": null,
   "metadata": {},
   "outputs": [],
   "source": []
  }
 ],
 "metadata": {
  "kernelspec": {
   "display_name": "Python 2",
   "language": "python",
   "name": "python2"
  },
  "language_info": {
   "codemirror_mode": {
    "name": "ipython",
    "version": 2
   },
   "file_extension": ".py",
   "mimetype": "text/x-python",
   "name": "python",
   "nbconvert_exporter": "python",
   "pygments_lexer": "ipython2",
   "version": "2.7.6"
  }
 },
 "nbformat": 4,
 "nbformat_minor": 0
}
