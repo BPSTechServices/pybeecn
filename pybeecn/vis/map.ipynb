{
 "cells": [
  {
   "cell_type": "code",
   "execution_count": null,
   "metadata": {
    "collapsed": true
   },
   "outputs": [],
   "source": [
    "import folium\n",
    "m = folium.Map(location=[45.5236, -122.6750])"
   ]
  },
  {
   "cell_type": "code",
   "execution_count": null,
   "metadata": {},
   "outputs": [],
   "source": [
    "import geopandas as gpd\n",
    "url_neighborhoods = 'https://opendata.arcgis.com/datasets/9f50a605cf4945259b983fa35c993fe9_125.geojson'\n",
    "neighborhood_geo = gpd.read_file(url_neighborhoods)\n",
    "\n",
    "folium.Choropleth(\n",
    "    geo_data=neighborhood_geo,\n",
    "    fill_color='YlGn',\n",
    "    fill_opacity=0.1\n",
    ").add_to(m)"
   ]
  },
  {
   "cell_type": "code",
   "execution_count": null,
   "metadata": {},
   "outputs": [],
   "source": [
    "import pandas as pd\n",
    "import numpy as np\n",
    "url_beecns = 'https://opendata.arcgis.com/datasets/6e6185533d5447deb8b7204c27e1858e_92.geojson'\n",
    "beecn_geo = gpd.read_file(url_beecns)\n",
    "beecn_geo = pd.DataFrame(beecn_geo)\n",
    "\n",
    "beecn_geo['geometry'] = beecn_geo['geometry'].map(lambda x: str(x).lstrip('POINT (').rstrip(')'))\n",
    "lat = []\n",
    "lon = []\n",
    "\n",
    "for row in beecn_geo['geometry']:\n",
    "    try:\n",
    "        lon.append(row.split(' ')[0])\n",
    "        lat.append(row.split(' ')[1])\n",
    "    except:\n",
    "        lon.append(np.NaN)\n",
    "        lat.append(np.NaN)\n",
    "\n",
    "beecn_geo['latitude'] = lat\n",
    "beecn_geo['longitude'] = lon\n",
    "print(beecn_geo.head())"
   ]
  },
  {
   "cell_type": "code",
   "execution_count": null,
   "metadata": {},
   "outputs": [],
   "source": [
    "table = \"\"\"\n",
    "<!DOCTYPE html>\n",
    "<html>\n",
    "<head>\n",
    "<style>\n",
    "table {{\n",
    "    width:100%;\n",
    "}}\n",
    "table, th, td {{\n",
    "    border: 1px solid black;\n",
    "    border-collapse: collapse;\n",
    "}}\n",
    "th, td {{\n",
    "    padding: 5px;\n",
    "    text-align: left;\n",
    "}}\n",
    "table#t01 tr:nth-child(odd) {{\n",
    "    background-color: #eee;\n",
    "}}\n",
    "table#t01 tr:nth-child(even) {{\n",
    "   background-color:#fff;\n",
    "}}\n",
    "</style>\n",
    "</head>\n",
    "<body>\n",
    "\n",
    "<table id=\"t01\">\n",
    "  <tr>\n",
    "    <td>Type</td>\n",
    "    <td>{}</td>\n",
    "  </tr>\n",
    "  <tr>\n",
    "    <td>Name</td>\n",
    "    <td>{}</td>\n",
    "  </tr>\n",
    "  <tr>\n",
    "    <td>Operational</td>\n",
    "    <td>{}</td>\n",
    "  </tr>\n",
    "</table>\n",
    "</body>\n",
    "</html>\n",
    "\"\"\".format"
   ]
  },
  {
   "cell_type": "code",
   "execution_count": null,
   "metadata": {},
   "outputs": [],
   "source": [
    "latitude = np.array(beecn_geo['latitude'])\n",
    "latitude = latitude.astype(float)\n",
    "longitude = np.array(beecn_geo['longitude'])\n",
    "longitude = longitude.astype(float)\n",
    "\n",
    "beecn_site = beecn_geo['SITE_NAME']\n",
    "address = beecn_geo['LOCATION']\n",
    "\n",
    "location = zip(latitude, longitude)\n",
    "count = 0\n",
    "for i in location:\n",
    "    folium.Marker(i, popup=address[count], icon= folium.Icon(icon='medkit', prefix='fa'), tooltip=beecn_site[count]).add_to(m)\n",
    "    folium.Circle(i, radius=1500).add_to(m)\n",
    "    count += 1\n",
    "m"
   ]
  }
 ],
 "metadata": {
  "kernelspec": {
   "display_name": "Python 2",
   "language": "python",
   "name": "python2"
  },
  "language_info": {
   "codemirror_mode": {
    "name": "ipython",
    "version": 2
   },
   "file_extension": ".py",
   "mimetype": "text/x-python",
   "name": "python",
   "nbconvert_exporter": "python",
   "pygments_lexer": "ipython2",
   "version": "2.7.6"
  }
 },
 "nbformat": 4,
 "nbformat_minor": 0
}
