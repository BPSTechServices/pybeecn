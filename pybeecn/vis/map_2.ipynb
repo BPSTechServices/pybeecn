{
 "cells": [
  {
   "cell_type": "code",
   "execution_count": null,
   "metadata": {
    "collapsed": false
   },
   "outputs": [
    {
     "name": "stdout",
     "output_type": "stream",
     "text": [
      "                             NEIGHBORHOOD  TOTAL  Unnamed: 2\n0                                 ALAMEDA   5214         NaN\n1                             ARBOR LODGE   6153         NaN\n2                 ARDENWALD-JOHNSON CREEK   4748         NaN\n3                          ARGAY TERRACE*   6006         NaN\n4                       ARLINGTON HEIGHTS    718         NaN\n5                            ARNOLD CREEK   3125         NaN\n6                                ASHCREEK   5719         NaN\n7                       BEAUMONT-WILSHIRE   5346         NaN\n8                                   BOISE   3311         NaN\n9                    BRENTWOOD-DARLINGTON  12994         NaN\n10                              BRIDGETON    725         NaN\n11                             BRIDLEMILE   5481         NaN\n12                 BROOKLYN ACTION CORPS*   3485         NaN\n13         BUCKMAN COMMUNITY ASSOCIATION*   8472         NaN\n14                         CATHEDRAL PARK   3349         NaN\n15      CENTENNIAL COMMUNITY ASSOCIATION*  23662         NaN\n16                           COLLINS VIEW   3036         NaN\n17                              CONCORDIA   9550         NaN\n18                     CRESTON-KENILWORTH   8227         NaN\n19                              CRESTWOOD   1047         NaN\n20        CULLY ASSOCIATION OF NEIGHBORS*  13209         NaN\n21                          EAST COLUMBIA   1748         NaN\n22                           EASTMORELAND   5007         NaN\n23                                  ELIOT   3611         NaN\n24                          FAR SOUTHWEST   1320         NaN\n25                            FOREST PARK   4129         NaN\n26                          FOSTER-POWELL   7335         NaN\n27                               GLENFAIR   3417         NaN\n28         GOOSE HOLLOW FOOTHILLS LEAGUE*   6507         NaN\n29                             GRANT PARK   3937         NaN\n..                                    ...    ...         ...\n68                        PEARL DISTRICT*   5997         NaN\n69                               PIEDMONT   7025         NaN\n70                        PLEASANT VALLEY  12743         NaN\n71                     PORTLAND DOWNTOWN*  12801         NaN\n72                             PORTSMOUTH   9789         NaN\n73                    POWELLHURST-GILBERT  30639         NaN\n74                                   REED   4399         NaN\n75                               RICHMOND  11607         NaN\n76                         ROSE CITY PARK   8982         NaN\n77                                ROSEWAY   6323         NaN\n78                                RUSSELL   3175         NaN\n79           SABIN COMMUNITY ASSOCIATION*   4149         NaN\n80  SELLWOOD-MORELAND IMPROVEMENT LEAGUE*  11621         NaN\n81                       SOUTH BURLINGAME   1747         NaN\n82                         SOUTH PORTLAND   6631         NaN\n83                            SOUTH TABOR   5995         NaN\n84    SOUTHWEST HILLS RESIDENTIAL LEAGUE*   8389         NaN\n85                              ST. JOHNS  12207         NaN\n86                       SULLIVAN'S GULCH   3139         NaN\n87       SUMNER ASSOCIATION OF NEIGHBORS*   2137         NaN\n88                             SUNDERLAND    718         NaN\n89                              SUNNYSIDE   7354         NaN\n90                       SYLVAN-HIGHLANDS   1317         NaN\n91                        UNIVERSITY PARK   6035         NaN\n92                                 VERNON   2585         NaN\n93                     WEST PORTLAND PARK   3921         NaN\n94                WILKES COMMUNITY GROUP*   8775         NaN\n95                          WOODLAND PARK    176         NaN\n96                               WOODLAWN   4933         NaN\n97                              WOODSTOCK   8942         NaN\n\n[98 rows x 3 columns]\n"
     ]
    },
    {
     "data": {
      "text/plain": [
       "<folium.features.Choropleth at 0x11c1e1400>"
      ]
     },
     "execution_count": 1,
     "metadata": {},
     "output_type": "execute_result"
    }
   ],
   "source": [
    "import folium\n",
    "\n",
    "import os.path\n",
    "import pandas as pd\n",
    "\n",
    "neigh_geo = 'https://opendata.arcgis.com/datasets/9f50a605cf4945259b983fa35c993fe9_125.geojson'\n",
    "data_dir = os.path.join(os.getcwd(), 'data')\n",
    "neighbor_file = os.path.join(data_dir, 'neighborhood_population.csv')\n",
    "neighbor_df = pd.read_csv(neighbor_file)\n",
    "print(neighbor_df)\n",
    "\n",
    "m = folium.Map(location=[45.5236, -122.6750])\n",
    "folium.Choropleth(geo_data=neigh_geo\n",
    "                  ).add_to(m)\n",
    "\n"
   ]
  },
  {
   "cell_type": "code",
   "execution_count": 2,
   "metadata": {},
   "outputs": [],
   "source": []
  },
  {
   "cell_type": "code",
   "execution_count": null,
   "metadata": {},
   "outputs": [],
   "source": []
  }
 ],
 "metadata": {
  "kernelspec": {
   "display_name": "Python 2",
   "language": "python",
   "name": "python2"
  },
  "language_info": {
   "codemirror_mode": {
    "name": "ipython",
    "version": 2
   },
   "file_extension": ".py",
   "mimetype": "text/x-python",
   "name": "python",
   "nbconvert_exporter": "python",
   "pygments_lexer": "ipython2",
   "version": "2.7.6"
  }
 },
 "nbformat": 4,
 "nbformat_minor": 0
}
