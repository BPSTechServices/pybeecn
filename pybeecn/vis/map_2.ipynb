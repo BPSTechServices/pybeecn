{
 "cells": [
  {
   "cell_type": "code",
   "execution_count": 1,
   "metadata": {
    "collapsed": false
   },
   "outputs": [
    {
     "name": "stdout",
     "output_type": "stream",
     "text": [
      "                             NEIGHBORHOOD  TOTAL\n0                                 ALAMEDA   5214\n1                             ARBOR LODGE   6153\n2                 ARDENWALD-JOHNSON CREEK   4748\n3                          ARGAY TERRACE*   6006\n4                       ARLINGTON HEIGHTS    718\n5                            ARNOLD CREEK   3125\n6                                ASHCREEK   5719\n7                       BEAUMONT-WILSHIRE   5346\n8                                   BOISE   3311\n9                    BRENTWOOD-DARLINGTON  12994\n10                              BRIDGETON    725\n11                             BRIDLEMILE   5481\n12                 BROOKLYN ACTION CORPS*   3485\n13         BUCKMAN COMMUNITY ASSOCIATION*   8472\n14                         CATHEDRAL PARK   3349\n15      CENTENNIAL COMMUNITY ASSOCIATION*  23662\n16                           COLLINS VIEW   3036\n17                              CONCORDIA   9550\n18                     CRESTON-KENILWORTH   8227\n19                              CRESTWOOD   1047\n20        CULLY ASSOCIATION OF NEIGHBORS*  13209\n21                          EAST COLUMBIA   1748\n22                           EASTMORELAND   5007\n23                                  ELIOT   3611\n24                          FAR SOUTHWEST   1320\n25                            FOREST PARK   4129\n26                          FOSTER-POWELL   7335\n27                               GLENFAIR   3417\n28         GOOSE HOLLOW FOOTHILLS LEAGUE*   6507\n29                             GRANT PARK   3937\n..                                    ...    ...\n68                        PEARL DISTRICT*   5997\n69                               PIEDMONT   7025\n70                        PLEASANT VALLEY  12743\n71                     PORTLAND DOWNTOWN*  12801\n72                             PORTSMOUTH   9789\n73                    POWELLHURST-GILBERT  30639\n74                                   REED   4399\n75                               RICHMOND  11607\n76                         ROSE CITY PARK   8982\n77                                ROSEWAY   6323\n78                                RUSSELL   3175\n79           SABIN COMMUNITY ASSOCIATION*   4149\n80  SELLWOOD-MORELAND IMPROVEMENT LEAGUE*  11621\n81                       SOUTH BURLINGAME   1747\n82                         SOUTH PORTLAND   6631\n83                            SOUTH TABOR   5995\n84    SOUTHWEST HILLS RESIDENTIAL LEAGUE*   8389\n85                              ST. JOHNS  12207\n86                       SULLIVAN'S GULCH   3139\n87       SUMNER ASSOCIATION OF NEIGHBORS*   2137\n88                             SUNDERLAND    718\n89                              SUNNYSIDE   7354\n90                       SYLVAN-HIGHLANDS   1317\n91                        UNIVERSITY PARK   6035\n92                                 VERNON   2585\n93                     WEST PORTLAND PARK   3921\n94                WILKES COMMUNITY GROUP*   8775\n95                          WOODLAND PARK    176\n96                               WOODLAWN   4933\n97                              WOODSTOCK   8942\n\n[98 rows x 2 columns]\n"
     ]
    }
   ],
   "source": [
    "import folium\n",
    "\n",
    "import os.path\n",
    "import pandas as pd\n",
    "\n",
    "neigh_geo = 'https://opendata.arcgis.com/datasets/9f50a605cf4945259b983fa35c993fe9_125.geojson'\n",
    "data_dir = os.path.join(os.getcwd(), 'data')\n",
    "neighbor_file = os.path.join(data_dir, 'neighborhood_population.csv')\n",
    "neighbor_df = pd.read_csv(neighbor_file)\n",
    "\n",
    "print(neighbor_df)\n",
    "\n",
    "# m = folium.Map(location=[45.5236, -122.6750])\n",
    "# folium.Choropleth(geo_data=neigh_geo,\n",
    "#                   name='chloropleth',\n",
    "#                   data=neighbor_df,\n",
    "#                   columns=['NEIGHBORHOOD', 'TOTAL'],\n",
    "#                   fill_color='YlGn',\n",
    "#                   legend_name='Test',\n",
    "#                   ).add_to(m)\n",
    "# m\n",
    "\n"
   ]
  },
  {
   "cell_type": "code",
   "execution_count": 34,
   "metadata": {},
   "outputs": [],
   "source": []
  },
  {
   "cell_type": "code",
   "execution_count": null,
   "metadata": {},
   "outputs": [],
   "source": []
  }
 ],
 "metadata": {
  "kernelspec": {
   "display_name": "Python 2",
   "language": "python",
   "name": "python2"
  },
  "language_info": {
   "codemirror_mode": {
    "name": "ipython",
    "version": 2
   },
   "file_extension": ".py",
   "mimetype": "text/x-python",
   "name": "python",
   "nbconvert_exporter": "python",
   "pygments_lexer": "ipython2",
   "version": "2.7.6"
  }
 },
 "nbformat": 4,
 "nbformat_minor": 0
}
